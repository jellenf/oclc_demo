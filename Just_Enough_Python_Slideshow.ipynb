{
 "cells": [
  {
   "cell_type": "markdown",
   "id": "357f34ac-6b2a-4f31-a9aa-0f2e67926ec1",
   "metadata": {
    "slideshow": {
     "slide_type": "slide"
    },
    "tags": []
   },
   "source": [
    "# Just Enough Python\n",
    "\n",
    "Accessing the [OCLC New Titles API](https://developer.api.oclc.org/new-titles-api) with Python"
   ]
  },
  {
   "cell_type": "markdown",
   "id": "9201f5e4-107e-457c-81d8-6bacfb64adee",
   "metadata": {
    "slideshow": {
     "slide_type": "slide"
    },
    "tags": []
   },
   "source": [
    "## Introduction: What is Python?\n",
    "\n",
    "Python is a programming language. More specifically, it is a high-level, general-purpose, interpreted programming language.\n",
    "\n",
    "* High-level: Python is fairly abstracted from actual machine code. You won't have to handle individual bytes for the most part, and Python makes it fairly difficult to access things like memory allocation, as most of that is handled automatically. This can be both an advantage and a disadvantage, but for beginning programmers, it's mostly a relief not to have to think about it.\n",
    "\n",
    "* General-purpose: Python can be used to run fully-featured applications and websites, but it can also be used as a scripting language for one-off tasks. You can program games in Python (although it's not great for that) or build machine learning algorithms (it *is* great for that).\n",
    "\n",
    "* Interpreted: Many other languages are constructed such that their code must be \"compiled\" into an application/executable file before it is run. Python code is compiled as it is run, or \"just in time\", by something called an interpreter, allowing for newly-written code to be deployed much more quickly."
   ]
  },
  {
   "cell_type": "markdown",
   "id": "152f6193-842b-4f1b-92e4-0f85c35035dd",
   "metadata": {
    "slideshow": {
     "slide_type": "slide"
    },
    "tags": []
   },
   "source": [
    "Python is more human-readable than most other programming languages. Also, you don't typically need to write as much Python code to do a task as you'd have to write in another programming language.\n",
    "\n",
    "Python has a fairly comprehensive standard library, with well-defined functions.\n",
    "\n",
    "Python is relatively slow to run (compared to C, C++, Rust, C#, Java, etc.), but fast to code in. It also has a larger user base and robust documentation. This is why it's preferred by many as a scripting language for small projects.\n",
    "\n",
    "Python was first published in February, 1991, by Guido van Rossum.\n",
    "\n",
    "Python was initially written in C, although there are now Java and .net implementations.\n",
    "\n",
    "Python is named after Monty Python's Flying Circus. Many older Python code examples have variable names like \"spam\" and \"eggs\", and other references to the sketch show."
   ]
  },
  {
   "cell_type": "markdown",
   "id": "40062b5b-e55a-4a97-98d5-ea4e65beb9cc",
   "metadata": {
    "jp-MarkdownHeadingCollapsed": true,
    "slideshow": {
     "slide_type": "slide"
    },
    "tags": []
   },
   "source": [
    "### Why can I use Python for?\n",
    "\n",
    "Python scripts are a quick and *relatively* painless way to automate tasks on your computer. Do you need to catalog, rename, or move around a bunch of files on your system? Python's `os` and `pathlib` modules make that straightforward.\n",
    "\n",
    "The `pandas` library lets you process tabular data easily in Python, and in ways that would require a lot of extra work in Excel or Google Sheets.\n",
    "\n",
    "Python's suite of statistical, prediction/modeling, and data visualization packages are well-suited for data science projects.\n",
    "\n",
    "APIs are relatively easy to access with Python.\n"
   ]
  },
  {
   "cell_type": "markdown",
   "id": "8f55c55b",
   "metadata": {
    "slideshow": {
     "slide_type": "slide"
    }
   },
   "source": [
    "### What are the downsides?\n",
    "\n",
    "Learning to program is a time investment. You may decide that it's not worth it for you to invest time in learning to code in Python, and that's fine.\n",
    "\n",
    "Learning to program is *frustrating*. It can be a humbling experience, and it can take time to acclimate the emotional rollercoaster of running into barriers and finding ways to break through them.\n",
    "\n",
    "Automation is only helpful if the time saved is greater than the time spent automating... *in the long run.* If it's your first time using a programming language, automating a task may initially incur a huge expense of time. What's worse: until you've gained more experience programming, you may not necessarily know whether a particular project will be worth the time."
   ]
  },
  {
   "cell_type": "markdown",
   "id": "0fbe6452",
   "metadata": {
    "slideshow": {
     "slide_type": "slide"
    }
   },
   "source": [
    "### With all that being said...\n",
    "\n",
    "If you *do* want to learn Python, whether you dabble in it or jump in with both feet, there is an enormous community of programmers who are eager to share what they know and to help beginners."
   ]
  },
  {
   "cell_type": "markdown",
   "id": "5d657aab-78a4-4f36-ab86-13a14e7597c6",
   "metadata": {
    "slideshow": {
     "slide_type": "slide"
    },
    "tags": []
   },
   "source": [
    "### What is \"Just Enough\" Python?\n",
    "\n",
    "Part 0 - enough to get set up, and to run the script and export a .xlsx file (essentially, no Python).\n",
    "\n",
    "Part 1 - enough to understand the basics of the Python language.\n",
    "\n",
    "Part 2 - enough to understand the script, and to start tinkering with it and customizing it."
   ]
  },
  {
   "cell_type": "markdown",
   "id": "1b297028-2fa4-4ddb-b383-6f893ecb37fb",
   "metadata": {
    "slideshow": {
     "slide_type": "slide"
    }
   },
   "source": [
    "### What's the Goal?\n",
    "\n",
    "This workshop is a demonstration of the OCLC New Titles API, one of many APIs OCLC has available.\n",
    "\n",
    "The code in the OCLC_New_Titles_API\n",
    ".ipynb notebook will produce an Excel file that contains New Titles data in the specified date range.\n",
    "\n",
    "Let's take a look at that Excel file first, so we can see what the code does."
   ]
  },
  {
   "cell_type": "markdown",
   "id": "4c727145",
   "metadata": {
    "slideshow": {
     "slide_type": "slide"
    }
   },
   "source": [
    "# Part 0 - Installation & Setup"
   ]
  },
  {
   "cell_type": "markdown",
   "id": "691841a7-864e-4563-a4f2-f380f7e4fd13",
   "metadata": {
    "slideshow": {
     "slide_type": "slide"
    },
    "tags": []
   },
   "source": [
    "## Setup - Anaconda\n",
    "\n",
    "Anaconda is one of the most convenient out-of-the-box solutions for beginning Python programmers. It offers built-in support for Jupyter Notebooks, which are one of the most common formats for data science projects because they allow code to be presented elegantly alongside text and visualizations. "
   ]
  },
  {
   "cell_type": "markdown",
   "id": "bd65c9da-50ac-4639-97f8-3a473ca41af6",
   "metadata": {
    "slideshow": {
     "slide_type": "slide"
    },
    "tags": []
   },
   "source": [
    "### Installing Anaconda\n",
    "\n",
    "If you just go to the Anaconda homepage, it will ask for your email but you may instead go directly to the [Anaconda download success page](https://www.anaconda.com/download/success) to start your download."
   ]
  },
  {
   "cell_type": "markdown",
   "id": "a189636d-a8e5-4c8d-8a69-e779669667ed",
   "metadata": {
    "slideshow": {
     "slide_type": "slide"
    },
    "tags": []
   },
   "source": [
    "Once you have downloaded the installer, open it and follow the instructions on the Anaconda docs page for [Windows](https://docs.anaconda.com/anaconda/install/windows/), [Mac](https://docs.anaconda.com/anaconda/install/mac-os/), or [Linux](https://docs.anaconda.com/anaconda/install/linux/), depending on your operating system."
   ]
  },
  {
   "cell_type": "markdown",
   "id": "1a6e0aad-528d-49f4-b9fb-cf8e3a58c896",
   "metadata": {
    "slideshow": {
     "slide_type": "slide"
    },
    "tags": []
   },
   "source": [
    "### Virtual Environments\n",
    "\n",
    "Virtual environments are [\"sandboxes\"](https://en.wikipedia.org/wiki/Sandbox_(software_development)) which allow the user to create a fresh installation of Python (and associated modules and packages) for each project they start. This may seem like an unnecessary extra step when you're just starting out, but as you begin to work on multiple projects, using virtual environments can be crucial for maintaining a clean Python workspace.\n",
    "\n",
    "When virtual environments are not used, Python packages with different dependencies can cause problems and create a lot of extra work. Fortunately, setting up virtual environments in Anaconda is straightforward (relative to other methods of setting them up, such as with venv, virtualenvironment, or Poetry).\n"
   ]
  },
  {
   "cell_type": "markdown",
   "id": "7c7cab10",
   "metadata": {
    "slideshow": {
     "slide_type": "slide"
    },
    "tags": []
   },
   "source": [
    "### Virtual Environments - Setup\n",
    "\n",
    "On the left side of the Anaconda Navigator window, click the \"Environments\" tab. Here you will find a list of the virtual environments you have available for use in Anaconda.\n",
    "\n",
    "If this is your first time using Anaconda, you will only see one environment listed: \"base (root)\".  On the right side of the page there is a list of all the packages installed in that environment."
   ]
  },
  {
   "cell_type": "markdown",
   "id": "3dea31ec-fd17-4463-94b9-fdb87d7afa17",
   "metadata": {
    "slideshow": {
     "slide_type": "slide"
    }
   },
   "source": [
    "![title](AnacondaVE2.png)"
   ]
  },
  {
   "cell_type": "markdown",
   "id": "fd88cf96",
   "metadata": {
    "slideshow": {
     "slide_type": "slide"
    },
    "tags": []
   },
   "source": [
    "### Virtual Environments - Creating\n",
    "\n",
    "Click \"Create\" at the bottom left corner of the page. When prompted to choose a name for the new environment, type \"OCLC\". You can leave the other choices at their default settings."
   ]
  },
  {
   "cell_type": "markdown",
   "id": "8b0c9a84-5828-433e-a38b-00f7eb32de69",
   "metadata": {
    "slideshow": {
     "slide_type": "slide"
    }
   },
   "source": [
    "![title](AnacondaVE3.png)"
   ]
  },
  {
   "cell_type": "markdown",
   "id": "f28ae465-8b18-435a-8c26-2bf8ac264e15",
   "metadata": {
    "slideshow": {
     "slide_type": "slide"
    }
   },
   "source": [
    "### Virtual Environments - Using `conda` to Install Packages and Modules\n",
    "\n",
    "Now that we've created an environment, it's time to install a package we will need for exporting a file in Excel format.\n",
    "\n",
    "Next to our new environment, there is a \"play\" button.\n",
    "\n",
    "Click this, and select \"Open Terminal\" from the dropdown menu.\n",
    "\n",
    "![title](OpenTerminal.png)\n"
   ]
  },
  {
   "cell_type": "markdown",
   "id": "d8ca33df-f706-4e0c-b6c5-604c95bfc546",
   "metadata": {
    "slideshow": {
     "slide_type": "slide"
    }
   },
   "source": [
    "Type in `conda install xlsxwriter` and hit enter."
   ]
  },
  {
   "cell_type": "markdown",
   "id": "21d85246-674c-4944-829e-b3dc48a271a0",
   "metadata": {},
   "source": [
    "![title](Terminal1.png)"
   ]
  },
  {
   "cell_type": "markdown",
   "id": "9ac6f0e8-913d-4327-b433-76b7e2a84956",
   "metadata": {
    "slideshow": {
     "slide_type": "slide"
    }
   },
   "source": [
    "conda will say \"Solving environment\" for a moment before presenting you with a summary of what it will install, and asking you to make a decision. When prompted, type in \"y\" and hit enter. "
   ]
  },
  {
   "cell_type": "markdown",
   "id": "ccd71e78-7e1e-498a-9f3a-d53f09c44fa6",
   "metadata": {},
   "source": [
    "![title](Terminal2.png)"
   ]
  },
  {
   "cell_type": "markdown",
   "id": "62307c48-cbae-4916-a1fb-2d675a6a7c03",
   "metadata": {
    "slideshow": {
     "slide_type": "slide"
    },
    "tags": []
   },
   "source": [
    "Once conda has finished installing the `xlsxwriter` module, it will notify you that it is finished."
   ]
  },
  {
   "cell_type": "markdown",
   "id": "6e4c29a5-ba78-44fa-8a56-53edbbf0c4a5",
   "metadata": {},
   "source": [
    "![title](Terminal3.png)"
   ]
  },
  {
   "cell_type": "markdown",
   "id": "4ae1ace8-6b88-40ce-992c-26347001e850",
   "metadata": {
    "jp-MarkdownHeadingCollapsed": true,
    "slideshow": {
     "slide_type": "slide"
    }
   },
   "source": [
    "### More Modules\n",
    "\n",
    "Repeat this process for the following modules, using the anaconda commands below:\n",
    "\n",
    "`conda install pandas`\n",
    "\n",
    "`conda install matplotlib`\n",
    "\n",
    "`conda install -c main requests-oauthlib`\n",
    "\n",
    "`conda install -c conda-forge jupyterlab jupyterlab-git` \n",
    "\n",
    "Pandas depends on numpy, so it will be installed as one of its components. The same is true of requests-oauthlib depending on oauthlib (\"Open Authorization Library\").\n",
    "\n",
    "The JupyterLab Git extension will allow you to \"clone\" the GitHub repository for this notebook and its associated files, automatically downloading them to your local environment."
   ]
  },
  {
   "cell_type": "markdown",
   "id": "a4a80bfc-dd21-44e9-a3e0-71ecbb15a3aa",
   "metadata": {
    "slideshow": {
     "slide_type": "slide"
    },
    "tags": []
   },
   "source": [
    "### Virtual Environments - Installing Jupyter\n",
    "\n",
    "Once Anaconda finishes setting up the environment, go back to your Home page by clicking the Home icon at the top left of the page. Click \"Install\" on JupyterLab and Jupyter Notebook (it doesn't matter which order)."
   ]
  },
  {
   "cell_type": "markdown",
   "id": "7438721b-9fd4-4412-ae76-e0912c7104a5",
   "metadata": {},
   "source": [
    "![title](AnacondaVE5.png)"
   ]
  },
  {
   "cell_type": "markdown",
   "id": "33d99147-f82d-4346-abdf-3288f833279e",
   "metadata": {},
   "source": [
    "![title](AnacondaVE6.png)"
   ]
  },
  {
   "cell_type": "markdown",
   "id": "2fa86da5-8b60-4114-bfc8-e2159ad062a3",
   "metadata": {},
   "source": [
    "Next, click \"Launch\" on JupyterLab."
   ]
  },
  {
   "cell_type": "markdown",
   "id": "1ba9cf13-85dc-4651-9d69-383fde449991",
   "metadata": {
    "slideshow": {
     "slide_type": "slide"
    }
   },
   "source": [
    "## What are Jupyter Notebooks?\n",
    "\n",
    "\"Jupyter\" is an abbreviation for Julia, Python, and R, the three languages it was originally designed to support (Jupyter notebooks can now be used for code in [many languages](https://github.com/jupyter/jupyter/wiki/Jupyter-kernels))\n",
    "\n",
    "Jupyter Notebooks allow code and text to be presented elegantly in the same document.\n",
    "\n",
    "Jupyter Notebook and JupyterLab are both platforms that support Jupyter Notebooks (.ipynb or \"IPython notebook\" files).\n",
    "\n",
    "These files are collections of cells that can contain code, raw text, or markdown. Here are examples of each type of cell, labeled accordingly."
   ]
  },
  {
   "cell_type": "raw",
   "id": "f506379e-131e-4669-acbb-b4c118325930",
   "metadata": {
    "slideshow": {
     "slide_type": "subslide"
    }
   },
   "source": [
    "### raw text\n",
    "\n",
    "x = 2\n",
    "print(x)"
   ]
  },
  {
   "cell_type": "code",
   "execution_count": null,
   "id": "4953193a-93ff-4215-834a-2daff8dc9849",
   "metadata": {
    "slideshow": {
     "slide_type": "subslide"
    }
   },
   "outputs": [],
   "source": [
    "### code cell\n",
    "\n",
    "x = 2\n",
    "print(x)"
   ]
  },
  {
   "cell_type": "raw",
   "id": "1fab0572-6252-48f2-996a-88fbad17433e",
   "metadata": {
    "slideshow": {
     "slide_type": "subslide"
    }
   },
   "source": [
    "### raw text\n",
    "\n",
    "markdown with `code examples`"
   ]
  },
  {
   "cell_type": "markdown",
   "id": "7ab03ac0-bd7f-4b02-bd71-852409500aff",
   "metadata": {
    "slideshow": {
     "slide_type": "subslide"
    }
   },
   "source": [
    "### markdown cell\n",
    "\n",
    "markdown with `code examples`"
   ]
  },
  {
   "cell_type": "markdown",
   "id": "313b0364",
   "metadata": {
    "slideshow": {
     "slide_type": "slide"
    }
   },
   "source": [
    "### Jupyter Notebook/JupyterLab Commands\n",
    "\n",
    "In the Help menu, select \"Show Keyboard Shortcuts\". The most commonly used are:\n",
    "\n",
    "Esc: Switch from Edit Mode to Command Mode\n",
    "\n",
    "**Shift-Enter/Shift-Return - run current cell**\n",
    "\n",
    "A - Make a new cell above\n",
    "\n",
    "B - Make a new cell below\n",
    "\n",
    "C - Copy current cell"
   ]
  },
  {
   "cell_type": "markdown",
   "id": "701498db-1cf2-4994-8640-1518647ded07",
   "metadata": {
    "slideshow": {
     "slide_type": "subslide"
    }
   },
   "source": [
    "**X - Cut current cell**\n",
    "\n",
    "V - Paste copied/cut cell\n",
    "\n",
    "**DD - Delete current cell (be careful!)**\n",
    "\n",
    "**Z - Undo**\n",
    "\n",
    "M - Change current cell to markdown\n",
    "\n",
    "Y - Change current cell to code\n",
    "\n",
    "R - Change current cell to raw text"
   ]
  },
  {
   "cell_type": "markdown",
   "id": "8d8e6df1-b010-4035-8f89-08167d286989",
   "metadata": {
    "slideshow": {
     "slide_type": "slide"
    }
   },
   "source": [
    "\\* NB: \"Z\" for Undo works while you are in Command Mode, but ctrl-z/command-z works when you're in Edit Mode in a cell. Each cell has a separate edit history for ctrl-z/command-z Undo functions."
   ]
  },
  {
   "cell_type": "markdown",
   "id": "3ee9a03e",
   "metadata": {
    "slideshow": {
     "slide_type": "slide"
    }
   },
   "source": [
    "### Checking our Environment\n",
    "\n",
    "Given that we're using a virtual environment, it's good to double-check that we're in the right environment.\n",
    "\n",
    "The sys module provides one way to verify this. It can also be done through the use of system-specific shell commands, which can be run in Jupyter by prefixing them with a \"!\".\n",
    "\n",
    "On Mac and Linux systems, use `!which python` and on Windows, use `!WHERE python`"
   ]
  },
  {
   "cell_type": "code",
   "execution_count": null,
   "id": "14e73276",
   "metadata": {
    "slideshow": {
     "slide_type": "slide"
    },
    "tags": []
   },
   "outputs": [],
   "source": [
    "import sys\n",
    "\n",
    "print(sys.executable)"
   ]
  },
  {
   "cell_type": "code",
   "execution_count": null,
   "id": "43f0cd41-3487-4951-a6f1-618cb4772d77",
   "metadata": {
    "scrolled": true,
    "slideshow": {
     "slide_type": "-"
    },
    "tags": []
   },
   "outputs": [],
   "source": [
    "#Windows:\n",
    "!WHERE python\n",
    "\n",
    "#Mac/Linux:\n",
    "#!which python"
   ]
  },
  {
   "cell_type": "markdown",
   "id": "fe3b1a12-cbb9-4e6b-88a7-a5c5472e2d9c",
   "metadata": {
    "slideshow": {
     "slide_type": "slide"
    },
    "tags": []
   },
   "source": [
    "## What is a pandas DataFrame?\n",
    "\n",
    "Pandas (from \"panel data\") is a Python library (a collection of modules) that extends Python's basic capabilities by adding support for tabular data.\n",
    "\n",
    "It's like a spreadsheet, but you don't click in cells and type into it; you use functions to manipulate the data it contains.\n",
    "\n",
    "Though individual cells are more difficult to edit in a DataFrame than in an application like Excel, the platform lends itself well to making sweeping edits quickly. This is a huge advantage when you want to clean data or engineer new features in a dataset.\n",
    "\n",
    "Pandas has excellent integration with statistical functions, so it's easy to get summary statistics for an entire dataset.\n",
    "\n",
    "Pandas is used so often by Python programmers that they abbreviate it to `pd` so they don't have to type four extra letters each time they use it.\n"
   ]
  },
  {
   "cell_type": "code",
   "execution_count": null,
   "id": "ec7b54d8",
   "metadata": {
    "scrolled": true,
    "slideshow": {
     "slide_type": "slide"
    },
    "tags": []
   },
   "outputs": [],
   "source": [
    "import pandas as pd\n",
    "\n",
    "df = pd.read_excel('OCLC_New_Titles_May_2024.xlsx', index_col=0)\n",
    "df.head()"
   ]
  },
  {
   "cell_type": "markdown",
   "id": "445a64b3-aaff-41bb-8709-05a02c8f9cc3",
   "metadata": {
    "slideshow": {
     "slide_type": "slide"
    },
    "tags": []
   },
   "source": [
    "## OCLC - New Titles in a DataFrame\n",
    "\n",
    "This DataFrame contains data from the OCLC New Titles API for the month of May, 2024.\n",
    "\n",
    "The other notebook in this folder, OCLC_API_base.ipynb, will query the API, then convert the data to .xlsx format and export it for the dates you select. (Select the dates by entering them in the cell near the top of the notebook labeled \"EDIT THIS CELL:\".)\n",
    "\n",
    "You don't need to know how Python works to run the other notebook. All you have to do is pick the start and end date for your list of new titles. (1 month max recommended; the script can take between 15-25 minutes to retrieve data for ~30,000 titles)."
   ]
  },
  {
   "cell_type": "markdown",
   "id": "104c6a2c-0ebc-4c5a-88d1-8c800a186722",
   "metadata": {
    "slideshow": {
     "slide_type": "slide"
    },
    "tags": []
   },
   "source": [
    "# Part I - Python Essentials\n",
    "\n",
    "Python Essentials"
   ]
  },
  {
   "cell_type": "markdown",
   "id": "5cadb005-8017-407f-8a22-d2c6df99b6e8",
   "metadata": {
    "slideshow": {
     "slide_type": "slide"
    }
   },
   "source": [
    "## What is the most important rule to remember when writing code in Python?\n",
    "\n",
    "**COMMENT YOUR CODE.**\n",
    "\n",
    "#Comments (with an octothorpe) and \"\"\"docstrings\"\"\" (with three sets of quotation marks, either single or double) provide context for people who don't know what your code does.\n",
    "\n",
    "*That includes future you.* Seriously. Document your code so you'll be able to pick up the trail if you have to pause or reopen a project."
   ]
  },
  {
   "cell_type": "markdown",
   "id": "e11ef06e-5534-42be-8577-bb12f9615ad0",
   "metadata": {
    "slideshow": {
     "slide_type": "slide"
    },
    "tags": []
   },
   "source": [
    "## Data Types\n",
    "\n",
    "Python's built-in data types are as follows (the grayed-out types won't be relevant for this project):\n",
    "\n",
    "Text: str (string)\n",
    "\n",
    "Numeric: int (integer), float (floating-point number), <span style=\"color:#BABABA\">complex (imaginary numbers)</span>\n",
    "\n",
    "Sequences: list, tuple, range\n",
    "\n",
    "Mapping: dict (dictionary)\n",
    "\n",
    "Set: set, <span style=\"color:#BABABA\">frozenset (immutable set)</span>\n",
    "\n",
    "Boolean: bool (True and False)\n",
    "\n",
    "<span style=\"color:#BABABA\">Binary: bytes, bytearray, memoryview</span>\n",
    "\n",
    "None: None\n"
   ]
  },
  {
   "cell_type": "markdown",
   "id": "ca597244",
   "metadata": {
    "slideshow": {
     "slide_type": "slide"
    },
    "tags": []
   },
   "source": [
    "## Strings\n",
    "\n",
    "For now, we'll hold off on discussing integers and floats (decimal numbers), but strings are very important to this project, as we'll be using them for our API parameters, as components of a URL, and also to access keys in dictionaries.\n",
    "\n",
    "Strings can be combined using the \"+\" operator. Say we have two string variables that denote the start date and end date of a process, and we want to print them out in a coherent sentence. We can do so like this:"
   ]
  },
  {
   "cell_type": "code",
   "execution_count": null,
   "id": "0971aa00",
   "metadata": {
    "slideshow": {
     "slide_type": "-"
    }
   },
   "outputs": [],
   "source": [
    "start_date = '2024-05-01'\n",
    "end_date = '2024-05-31'\n",
    "\n",
    "full_string = start_date + \" to \" + end_date\n",
    "\n",
    "print(full_string)"
   ]
  },
  {
   "cell_type": "markdown",
   "id": "6a4dfc09",
   "metadata": {
    "slideshow": {
     "slide_type": "slide"
    }
   },
   "source": [
    "Strings can contain any kind of character, but they have to be opened and closed by the same kind of quotation mark, either single or double. If a string contains one of these characters, such as an apostrophe in a contraction, the other kind must be used to open and close it, otherwise the code won't run correctly."
   ]
  },
  {
   "cell_type": "code",
   "execution_count": null,
   "id": "a9af5f76-4ee3-480e-af42-63aff591d183",
   "metadata": {
    "scrolled": true,
    "slideshow": {
     "slide_type": "-"
    }
   },
   "outputs": [],
   "source": [
    "string1 = \"This doesn't work unless you use double-quotes to open and close the string.\"\n",
    "print(string1)"
   ]
  },
  {
   "cell_type": "markdown",
   "id": "6fe849cb-7ecf-4c6c-bfc4-00853fa2a533",
   "metadata": {
    "slideshow": {
     "slide_type": "slide"
    }
   },
   "source": [
    "### Coding Exercise\n",
    "\n",
    "Try replacing the double-quotes around the string with single-quotes:"
   ]
  },
  {
   "cell_type": "code",
   "execution_count": null,
   "id": "613ee41f-c41a-46a0-a2d1-45afc8964896",
   "metadata": {
    "scrolled": true,
    "slideshow": {
     "slide_type": "-"
    }
   },
   "outputs": [],
   "source": [
    "################################################################################\n",
    "################################################################################\n",
    "\n",
    "string2 = \"This doesn't work unless you use double-quotes to open and close the string.\"\n",
    "\n",
    "################################################################################\n",
    "################################################################################"
   ]
  },
  {
   "cell_type": "markdown",
   "id": "1d834545-63c0-41a5-8073-b52117a3aa51",
   "metadata": {
    "slideshow": {
     "slide_type": "slide"
    }
   },
   "source": [
    "This should generate the following error message: \"`SyntaxError: unterminated string literal (detected at line 4)`\""
   ]
  },
  {
   "cell_type": "markdown",
   "id": "8a4ba429-15d3-49bd-98a6-8ead22c832f2",
   "metadata": {
    "slideshow": {
     "slide_type": "slide"
    }
   },
   "source": [
    "### Error Messages Are Your Friends!\n",
    "\n",
    "No, really!\n",
    "\n",
    "This may seem counterintuitive, but two of the best reasons to learn Python as opposed to other programming languages are that its error handling system is very robust, and that *many other programmers have already made the same mistakes as you.*\n",
    "\n",
    "If you run your code and get an error message, you can copy-paste the last line of it (minus any sensitive information) into a search engine and you will likely find an example of someone else who's gotten the same (or very similar) error message, and asked about it on a forum.\n",
    "\n",
    "Great sources to check for this sort of thing include [StackOverflow](https://stackoverflow.com/) and [GitHub](https://github.com/). Reddit works too, if you can ignore the usernames.\n",
    "\n",
    "Remember, if you get an error message, change your code, and get a new error message, that's progress!"
   ]
  },
  {
   "cell_type": "markdown",
   "id": "4baa58b5",
   "metadata": {
    "slideshow": {
     "slide_type": "slide"
    }
   },
   "source": [
    "### ** Escape Characters\n",
    "\n",
    "\"`\\`\" is called an \"escape character\" in Python (and in markdown cells). Placing an escape character before another character in a string will cause a different behavior from the character by itself. In Python strings, \"\\\\t\" represents a tab, and \"\\\\n\" represents a newline character. \n",
    "\n",
    "Also, in order for a \"\\\\\" to show up correctly in markdown cells, it has to have another \\\\ in front of it.\n",
    "\n",
    "Double-click in this cell to see how many backslashes there actually are in the markdown text.\n",
    "\n",
    "Notice that the backslash in graves doesn't require a leading backslash."
   ]
  },
  {
   "cell_type": "code",
   "execution_count": null,
   "id": "86b5bc56-5cdf-453a-83db-7e48147f712c",
   "metadata": {
    "slideshow": {
     "slide_type": "slide"
    }
   },
   "outputs": [],
   "source": [
    "print('line 1\\n\\n\\tline 2 (tab-indented)')"
   ]
  },
  {
   "cell_type": "markdown",
   "id": "1cc11ab7-5072-41ae-aff4-45b89e54ea91",
   "metadata": {
    "slideshow": {
     "slide_type": "slide"
    },
    "tags": []
   },
   "source": [
    "## Objects\n",
    "\n",
    "An \"object\" in Python is kind of like a noun (if you're thinking about it in grammatical terms, an \"object\" can be either a subject or an object). It's a thing that exists in the virtual space of the coding environment.\n",
    "\n",
    "A text string is an example of an object, and so is an integer. So are lists.\n",
    "\n",
    "The following code defines the variable t as the string of characters \"text string\", and sets the variable z to be an integer with a value of 50, then puts them in a list called \"stuff\". The variables \"t\", \"z\", and \"stuff\" are all objects.\n",
    "\n",
    "Everything\\* in Python is an object, which is not true of all programming languages.\n",
    "\n",
    "\n",
    "*\\*nearly everything... there are a couple of exceptions, but they're well outside the scope of this project.*"
   ]
  },
  {
   "cell_type": "code",
   "execution_count": null,
   "id": "7a8028b2-846c-4c4d-9621-bee3fb6ca4a4",
   "metadata": {
    "slideshow": {
     "slide_type": "slide"
    },
    "tags": []
   },
   "outputs": [],
   "source": [
    "t = 'text string'\n",
    "z = 50\n",
    "stuff = [t, z]"
   ]
  },
  {
   "cell_type": "code",
   "execution_count": null,
   "id": "2887ff93-a687-41ed-a612-7981ab19a53f",
   "metadata": {
    "slideshow": {
     "slide_type": "-"
    }
   },
   "outputs": [],
   "source": [
    "stuff"
   ]
  },
  {
   "cell_type": "code",
   "execution_count": null,
   "id": "1aff0bac-ea97-4bb8-8fb6-a174f6374c47",
   "metadata": {
    "slideshow": {
     "slide_type": "-"
    }
   },
   "outputs": [],
   "source": [
    "z"
   ]
  },
  {
   "cell_type": "markdown",
   "id": "7940788d-87af-446c-95f4-ccd5e0d28503",
   "metadata": {
    "slideshow": {
     "slide_type": "slide"
    },
    "tags": []
   },
   "source": [
    "## Classes\n",
    "\n",
    "`Classes` are blueprints/templates for objects. Individual objects are \"instances\" of Classes. When you define a variable as a string in Python, you are making an instance of the string class.\n",
    "You can tell what Class an object is by using the `type()` function around the object."
   ]
  },
  {
   "cell_type": "code",
   "execution_count": null,
   "id": "b1141480-b427-401d-89f1-c8c920bf79de",
   "metadata": {
    "slideshow": {
     "slide_type": "-"
    },
    "tags": []
   },
   "outputs": [],
   "source": [
    "x = 'PBJ sandwich'\n",
    "type(x)"
   ]
  },
  {
   "cell_type": "code",
   "execution_count": null,
   "id": "ed752ceb-6396-4b81-91a0-07ee634da196",
   "metadata": {
    "slideshow": {
     "slide_type": "-"
    }
   },
   "outputs": [],
   "source": [
    "type(df)"
   ]
  },
  {
   "cell_type": "markdown",
   "id": "7fc9e240-7f09-466c-b5e6-f29de0bd3309",
   "metadata": {
    "slideshow": {
     "slide_type": "slide"
    }
   },
   "source": [
    "### ** Dynamic Typing\n",
    "\n",
    "While many other programming languages require the user to declare what kind of type a new object is as it's created, Python's approach is more laissez-faire. Python is coded such that it will attempt to detect what type an object is based on context, usually by checking what methods are associated with the object.\n",
    "\n",
    "This is sometimes called \"duck typing\", as in \"if it walks like a duck, and it quacks like a duck, then it's probably a duck\".\n",
    "\n",
    "This is useful in that objects in Python are a lot more flexible than in some other languages; you can iterate over most of the container objects the same way, and Python will \"know\" what to do with them. The downside is that if a function receives input in a format it's not designed for, there can sometimes be unexpected results."
   ]
  },
  {
   "cell_type": "code",
   "execution_count": null,
   "id": "db14fbe8-3960-4990-80f6-a8477338a998",
   "metadata": {
    "scrolled": true,
    "slideshow": {
     "slide_type": "slide"
    }
   },
   "outputs": [],
   "source": [
    "class Duck:\n",
    "\n",
    "    # __init__() sets attributes of a new class instance\n",
    "    def __init__(self, name):\n",
    "        self.name = name\n",
    "        \n",
    "    # define class methods swim and fly\n",
    "    def swim(self):\n",
    "        print(\"{} the duck is swimming.\".format(self.name))\n",
    "\n",
    "    def fly(self):\n",
    "        print(\"{} the duck is flying.\".format(self.name))\n",
    "\n",
    "class Whale:\n",
    "    def __init__(self, name):\n",
    "        self.name = name\n",
    "        \n",
    "    #define class method swim\n",
    "    def swim(self):\n",
    "        print(\"{} the whale is swimming.\".format(self.name))"
   ]
  },
  {
   "cell_type": "code",
   "execution_count": null,
   "id": "95f68b68",
   "metadata": {
    "slideshow": {
     "slide_type": "slide"
    }
   },
   "outputs": [],
   "source": [
    "ferdinand = Duck('Ferdinand')\n",
    "ferdinand.swim()"
   ]
  },
  {
   "cell_type": "code",
   "execution_count": null,
   "id": "61d6d5a2-df99-40e5-930b-d43dd3c6ef3a",
   "metadata": {
    "slideshow": {
     "slide_type": "-"
    }
   },
   "outputs": [],
   "source": [
    "george = Whale('George')\n",
    "george.swim()"
   ]
  },
  {
   "cell_type": "markdown",
   "id": "76e61261-bfc6-4fdc-a04a-a5c2201440c3",
   "metadata": {
    "slideshow": {
     "slide_type": "slide"
    }
   },
   "source": [
    "### ** Coding Exercise\n",
    "\n",
    "Try replacing \"`.swim()`\" with \"`.fly()`\":"
   ]
  },
  {
   "cell_type": "code",
   "execution_count": null,
   "id": "c9da6ccd-9cb2-4070-8d5a-e162b8fbc8e9",
   "metadata": {
    "scrolled": true,
    "slideshow": {
     "slide_type": "-"
    }
   },
   "outputs": [],
   "source": [
    "################################################################################\n",
    "################################################################################\n",
    "\n",
    "george.swim()\n",
    "\n",
    "################################################################################\n",
    "################################################################################"
   ]
  },
  {
   "cell_type": "markdown",
   "id": "9f4c4e2b-fad7-462e-bb09-82fd5d1198a9",
   "metadata": {
    "slideshow": {
     "slide_type": "slide"
    },
    "tags": []
   },
   "source": [
    "## Functions\n",
    "\n",
    "A function in Python is a kind of object, specifically an object that is a tool used for a single purpose. \n",
    "\n",
    "Functions in Python are blocks of code that only run when they are \"called\".\n",
    "\n",
    "Functions may have inputs, and may also produce outputs. In Python, functions are defined using the `def function_name():` syntax.\n",
    "\n",
    "When defining a function, the variables within the parentheses are referred to as \"parameters\". When the function is called, the values that are actually passed to the function via these parameters are referred to as \"arguments\".\n",
    "\n",
    "To call a function, type its name appended with parentheses that contain whatever arguments are supposed to be passed to it, like `function_name(arg1, arg2)`"
   ]
  },
  {
   "cell_type": "code",
   "execution_count": null,
   "id": "14851f39-224c-4fd9-9063-bf2e28a7b041",
   "metadata": {
    "slideshow": {
     "slide_type": "slide"
    },
    "tags": []
   },
   "outputs": [],
   "source": [
    "def hello_world():\n",
    "\tprint('Hello world!')\n",
    "    \n",
    "def print_yelling(text):\n",
    "\tprint(text.upper())"
   ]
  },
  {
   "cell_type": "code",
   "execution_count": null,
   "id": "09c30cb8-acf3-4bf4-b3e0-9d3413b76d3c",
   "metadata": {
    "slideshow": {
     "slide_type": "-"
    },
    "tags": []
   },
   "outputs": [],
   "source": [
    "hello_world()"
   ]
  },
  {
   "cell_type": "code",
   "execution_count": null,
   "id": "99a96d41-186f-44c9-a1db-054888da9c6b",
   "metadata": {
    "slideshow": {
     "slide_type": "-"
    },
    "tags": []
   },
   "outputs": [],
   "source": [
    "print_yelling('Hello world!')"
   ]
  },
  {
   "cell_type": "markdown",
   "id": "d33763af-317c-411d-8b7c-3dd9f6da2b72",
   "metadata": {
    "slideshow": {
     "slide_type": "slide"
    }
   },
   "source": [
    "### The `return` Keyword\n",
    "\n",
    "Printing the output is fine for human users who just want to read it, but it's generally more useful to have the function give an output by means of a `return` statement. If you want to print the output, you can store the output as a variable, and then print it."
   ]
  },
  {
   "cell_type": "code",
   "execution_count": null,
   "id": "98ad24f7-1ed7-40a8-a82d-d3bb5084ba25",
   "metadata": {
    "slideshow": {
     "slide_type": "-"
    }
   },
   "outputs": [],
   "source": [
    "def hello_world_return():\n",
    "    return 'Hello world!'\n",
    "\n",
    "greeting = hello_world_return()\n",
    "\n",
    "print(greeting)"
   ]
  },
  {
   "cell_type": "markdown",
   "id": "0b16afce-11e6-4c73-a816-0f322154d428",
   "metadata": {
    "slideshow": {
     "slide_type": "slide"
    },
    "tags": []
   },
   "source": [
    "### ** Built-in Functions"
   ]
  },
  {
   "cell_type": "markdown",
   "id": "80744eec-e437-4ea9-9448-b7716bf58e67",
   "metadata": {
    "slideshow": {
     "slide_type": "-"
    },
    "tags": []
   },
   "source": [
    "[Python Documentation on Built-In Functions](https://docs.python.org/3/library/functions.html)"
   ]
  },
  {
   "cell_type": "markdown",
   "id": "e48c17ce-cc68-45ef-a9bf-8f2948cf9c48",
   "metadata": {
    "slideshow": {
     "slide_type": "slide"
    },
    "tags": []
   },
   "source": [
    "### Methods\n",
    "\n",
    "Did you catch that `.upper()` on the last slide?\n",
    "That's an example of a method, which is a function specific to a class. When Classes are constructed, they may have methods defined, which can later be accessed using the syntax \"`object.method()`\". Unlike regular functions, methods are reliant on their respective Classes when they are called.\n",
    "\n",
    "In this case, `.upper()` is a method for the string Class (str) that converts all the alphabetical characters in the string to uppercase while ignoring other kinds of characters.\n",
    ".\n",
    "The original string is unchanged, but calling the `.upper()` method returns an altered version of the string. `.lower()` works the same way, for lowercase. There are [many other built-in methods for strings](https://www.w3schools.com/python/python_ref_string.asp) besides these two."
   ]
  },
  {
   "cell_type": "code",
   "execution_count": null,
   "id": "f4d0a945-2b96-466a-9ed6-d9c52a90bee3",
   "metadata": {
    "slideshow": {
     "slide_type": "slide"
    },
    "tags": []
   },
   "outputs": [],
   "source": [
    "p = '101 Dalmatians'\n",
    "p.upper()"
   ]
  },
  {
   "cell_type": "code",
   "execution_count": null,
   "id": "38d91d7b-d2b0-4b91-a81e-a04bf4711e1a",
   "metadata": {
    "slideshow": {
     "slide_type": "-"
    },
    "tags": []
   },
   "outputs": [],
   "source": [
    "s = 'Lentil Soup - Cup: $5.99, Bowl: $9.99'\n",
    "s.upper()"
   ]
  },
  {
   "cell_type": "code",
   "execution_count": null,
   "id": "3c496583-81b6-4db2-8e66-90bfa0f030fb",
   "metadata": {
    "slideshow": {
     "slide_type": "-"
    }
   },
   "outputs": [],
   "source": [
    "f = 'RoSeS, vIoLeTs, ChRySaNtHeMuMs'\n",
    "f.lower()"
   ]
  },
  {
   "cell_type": "markdown",
   "id": "02b28f8a-5bb2-4c91-8ba8-b9ff1224f813",
   "metadata": {
    "slideshow": {
     "slide_type": "slide"
    }
   },
   "source": [
    "### Attributes"
   ]
  },
  {
   "cell_type": "markdown",
   "id": "3d71b5b3-6538-4e5e-ab87-3be9c9cdcdde",
   "metadata": {},
   "source": [
    "Attributes are the properties of Python objects. Like methods, they are specific to the class of an object.\n",
    "\n",
    "They can also be accessed with a dot, but unlike methods, they do not use parentheses. (`object.attribute`)"
   ]
  },
  {
   "cell_type": "code",
   "execution_count": null,
   "id": "baa1acea-2307-4850-805e-e9454a5e99cc",
   "metadata": {
    "scrolled": true,
    "slideshow": {
     "slide_type": "-"
    },
    "tags": []
   },
   "outputs": [],
   "source": [
    "x = 2\n",
    "x.__class__"
   ]
  },
  {
   "cell_type": "markdown",
   "id": "cd5fdd3d-c00f-497a-a367-2a1c6077eada",
   "metadata": {
    "slideshow": {
     "slide_type": "slide"
    },
    "tags": []
   },
   "source": [
    "## `dir`\n",
    "\n",
    "The built-in function `dir()` yields a directory of an object's attributes and methods.\n",
    "\n",
    "As illustrated below, even the lowliest integers have many attributes and methods associated with them."
   ]
  },
  {
   "cell_type": "code",
   "execution_count": null,
   "id": "f022bf84-049e-4bc7-a747-ae3d92dc5488",
   "metadata": {
    "scrolled": true,
    "slideshow": {
     "slide_type": "slide"
    },
    "tags": []
   },
   "outputs": [],
   "source": [
    "dir(2)"
   ]
  },
  {
   "cell_type": "markdown",
   "id": "063004ea-06ac-48b2-9ce1-15b01a16be92",
   "metadata": {
    "slideshow": {
     "slide_type": "slide"
    },
    "tags": []
   },
   "source": [
    "## Container Objects\n",
    "\n",
    "Of the built-in data types, four of them are designed to contain other objects.\n",
    "\n",
    "List: an array that contains elements in a specific order. `[ ]`\n",
    "\n",
    "Set: an unordered collection with no duplicate elements. `{ }`\n",
    "\n",
    "Tuple: a sequence of elements, immutable (cannot be changed once defined.) `( )`\n",
    "\n",
    "Dictionary: A `set` of \"key: value\" pairs. Keys must be unique. `{ }`"
   ]
  },
  {
   "cell_type": "markdown",
   "id": "13a5fa3b-8649-4dda-8db9-ccf77549533e",
   "metadata": {
    "slideshow": {
     "slide_type": "slide"
    },
    "tags": []
   },
   "source": [
    "All container objects by definition have a special class method `.__contains__()`, which is used internally to check whether the object has another object in it.\n",
    "\n",
    "Specific objects within some container objects may be retrieved by supplying an index or key. This is called \"subscripting\". Lists and tuples are subscriptable by means of providing an index number (e.g.: `some_list[0]`) whereas dictionaries are subscriptable via providing a key (`some_dictionary['some_key']`).\n",
    "\n",
    "Sets are not subscriptable.\n",
    "\n",
    "DataFrames are more complex, specialized container objects. We'll cover them in greater detail later."
   ]
  },
  {
   "cell_type": "code",
   "execution_count": null,
   "id": "bda5b280-c295-462e-918d-f83e92281d00",
   "metadata": {},
   "outputs": [],
   "source": [
    "('red', 8)"
   ]
  },
  {
   "cell_type": "markdown",
   "id": "f8995252-6af8-4422-bbe8-52ce7960ead1",
   "metadata": {
    "slideshow": {
     "slide_type": "slide"
    }
   },
   "source": [
    "### Coding Exercise\n",
    "\n",
    "Try using different arguments in square brackets at the end of the following four container objects:"
   ]
  },
  {
   "cell_type": "code",
   "execution_count": null,
   "id": "79323cc3-a607-47dd-8419-66b3015b0ea2",
   "metadata": {
    "scrolled": true,
    "slideshow": {
     "slide_type": "-"
    }
   },
   "outputs": [],
   "source": [
    "sample_list = [1, 2, 3, 4]\n",
    "sample_tuple = ('red', 8)\n",
    "sample_dict = {'home_team':12,'away_team':9}\n",
    "sample_set = {}\n",
    "empty_list = []\n",
    "\n",
    "################################################################################\n",
    "################################################################################\n",
    "\n",
    "# Example:\n",
    "sample_list[0]\n",
    "\n",
    "################################################################################\n",
    "################################################################################"
   ]
  },
  {
   "cell_type": "markdown",
   "id": "b670dd37-1794-4e4a-9abf-f208d178438a",
   "metadata": {
    "slideshow": {
     "slide_type": "slide"
    },
    "tags": []
   },
   "source": [
    "## `for` Loops\n",
    "\n",
    "Container objects are handy for several reasons, but probably the most important of those reasons is that they can be iterated over. This is the cornerstone of automation in Python, as it lets the user instruct Python to repeat a task for every item in a defined range (a list, a set, a tuple, the values in a dictionary, or a column in a DataFrame.)"
   ]
  },
  {
   "cell_type": "code",
   "execution_count": null,
   "id": "8dc7b07c-191d-405c-9e55-84e8c954ada5",
   "metadata": {
    "slideshow": {
     "slide_type": "slide"
    },
    "tags": []
   },
   "outputs": [],
   "source": [
    "p = ['a', 'b', 'c']\n",
    "for item in p:\n",
    "\tprint(item)"
   ]
  },
  {
   "cell_type": "code",
   "execution_count": null,
   "id": "447b27c1-e9f3-45ee-9d7a-2e760ca59ed5",
   "metadata": {
    "slideshow": {
     "slide_type": "-"
    },
    "tags": []
   },
   "outputs": [],
   "source": [
    "p = ['a', 'b', 'c']\n",
    "q = []\n",
    "for item in p:\n",
    "\tq.append(item.upper())\n",
    "\n",
    "q"
   ]
  },
  {
   "cell_type": "markdown",
   "id": "5deb78d8-fca7-4c4a-b558-90bc44aba4bc",
   "metadata": {
    "slideshow": {
     "slide_type": "slide"
    }
   },
   "source": [
    "Within a `for` loop, a temporary variable is created to reference each object in the container. One by one, the objects in the container object are stored in this variable. In the previous examples, we used the word \"item\" for that temporary variable. 'Item' and 'element' are fairly conventional names for this temporary variable, but they can often be too generic.\n",
    "\n",
    "You should usually consider using other words* which convey more meaning to whomever might be reading your code.\n",
    "\n",
    "This can be especially important when you're dealing with a specific kind of data and you want to reduce the level of abstraction necessary to understand the code.\n",
    "\n",
    "\\* *NB: There are a few words in Python that you should never use for variable names because they have specific predefined meanings, but we'll cover those later.*"
   ]
  },
  {
   "cell_type": "code",
   "execution_count": null,
   "id": "b8cde57e-e0f8-4f83-8875-0e321bee48cc",
   "metadata": {
    "slideshow": {
     "slide_type": "fragment"
    },
    "tags": []
   },
   "outputs": [],
   "source": [
    "letter_list = ['a', 'b', 'c']\n",
    "for letter in letter_list:\n",
    "\tprint(letter)"
   ]
  },
  {
   "cell_type": "markdown",
   "id": "8f508eaf-2602-4a7b-9d67-e81f4a25ffc3",
   "metadata": {
    "slideshow": {
     "slide_type": "slide"
    },
    "tags": []
   },
   "source": [
    "## List Comprehensions\n",
    "\n",
    "for loops are useful, but sometimes they're a bit clunky. When one has to process a field of a dataframe, it is often better to use what's called a list comprehension.\n",
    "List comprehensions are formatted:\n",
    "\n",
    "`[function(x) for x in container_object]`\n",
    "\n",
    "or\n",
    "\n",
    "`[x.method() for x in container_object]`\n",
    "\n",
    "The output of this code is (as the external square brackets may indicate) a list object."
   ]
  },
  {
   "cell_type": "markdown",
   "id": "3b953306-65a2-4ec4-a831-f06d925011ce",
   "metadata": {
    "slideshow": {
     "slide_type": "slide"
    },
    "tags": []
   },
   "source": [
    "## Dictionaries in for Loops:\n",
    "\n",
    "To access the values in a dictionary through a `for` loop, the user must first use the `.keys()` method to retrieve the keys."
   ]
  },
  {
   "cell_type": "code",
   "execution_count": null,
   "id": "3580da89-8cf1-4bf5-9d80-329eaa9c62c3",
   "metadata": {
    "slideshow": {
     "slide_type": "-"
    },
    "tags": []
   },
   "outputs": [],
   "source": [
    "dictionary_object = {'key1':'value1','key2':'value2'}\n",
    "\n",
    "for key in dictionary_object.keys():\n",
    "\tprint(dictionary_object[key])"
   ]
  },
  {
   "cell_type": "markdown",
   "id": "fc4f5338-24ae-4c9b-a616-7f6a2e2dcf9d",
   "metadata": {
    "slideshow": {
     "slide_type": "slide"
    },
    "tags": []
   },
   "source": [
    "## `while` Loops\n",
    "\n",
    "`for` loops are great for looping over container objects, but what if you don't know how many items have to be processed by a task before you start it?\n",
    "\n",
    "`while` loops are another loop construction in Python that allows the user to instruct Python to do a task until a condition is met (or in this case, not to do the task until the condition is met.)"
   ]
  },
  {
   "cell_type": "code",
   "execution_count": null,
   "id": "1b891cbf-561c-4005-a53b-4b12e64ec53d",
   "metadata": {
    "raw_mimetype": "",
    "slideshow": {
     "slide_type": "-"
    },
    "tags": []
   },
   "outputs": [],
   "source": [
    "def squares(x):\n",
    "    n = 1\n",
    "    while n <= x:\n",
    "        print(n**2)\n",
    "        n += 1\n",
    "\n",
    "squares(9)"
   ]
  },
  {
   "cell_type": "markdown",
   "id": "15e53375-3a34-41c1-911b-19afbada50ed",
   "metadata": {
    "slideshow": {
     "slide_type": "slide"
    }
   },
   "source": [
    "## Boolean Variables and Comparison Operators"
   ]
  },
  {
   "cell_type": "markdown",
   "id": "957cfdb9-09b1-49bc-a528-6ab65fa89699",
   "metadata": {},
   "source": [
    "In very broad terms, Boolean algebra (named after its creator George Boole) is a branch of mathematics that deals with true and false statements, and the comparison thereof.\n",
    "\n",
    "In Python, there are two Boolean variables, `True` and `False`. These are used in conjunction with comparison operators to change what code does based on particular conditions.\n",
    "\n",
    "The comparison operators in Python are \"equals\" (`==`), \"does not equal\" (`!=`), \"greater than\" (`>`), \"less than\" (`<`), \"greater than or equal to\" (`>=`) and \"less than or equal to\" (`<=`)\n",
    "\n",
    "Python also has a set of Boolean operators, `and`, `or`, and `not` that can combine or alter the behavior of these comparison operators.\n",
    "\n",
    "\\* *Note that the \"equals\" operator must be constructed with two equals signs, as in Python, assigning a variable uses a single equals sign.*"
   ]
  },
  {
   "cell_type": "code",
   "execution_count": null,
   "id": "af8078b5-db7c-4db6-8cae-3ea7d730267c",
   "metadata": {
    "slideshow": {
     "slide_type": "slide"
    }
   },
   "outputs": [],
   "source": [
    "True == True"
   ]
  },
  {
   "cell_type": "code",
   "execution_count": null,
   "id": "10896303-01b5-46cb-8cba-2ba1e3ec1400",
   "metadata": {},
   "outputs": [],
   "source": [
    "False == False"
   ]
  },
  {
   "cell_type": "code",
   "execution_count": null,
   "id": "f57be4c0-bc57-4bd5-9661-22aaedacd4f5",
   "metadata": {},
   "outputs": [],
   "source": [
    "True == False"
   ]
  },
  {
   "cell_type": "markdown",
   "id": "9aa23891-e374-48db-a090-0cce190cfef7",
   "metadata": {
    "slideshow": {
     "slide_type": "slide"
    }
   },
   "source": [
    "## ** Booleans and Other Values\n",
    "\n",
    "Objects in Python that are *not* Boolean variables may still be evaluated as if they are. `1` and `0` are equivalent to `True` and `False`, respectively. \n",
    "\n",
    "`3` does not *equal* `True` like `1` does, but if you use the `bool()` builtin function, any nonzero number passed as an argument will evaluate to `True`.\n",
    "\n",
    "Any number except `0` will evaluate to True. Most container objects will also evaluate to `True` if passed to `bool()`, provided they are not empty."
   ]
  },
  {
   "cell_type": "code",
   "execution_count": null,
   "id": "7c1b4082-b58e-423d-a4f2-ee6fe7a1e40e",
   "metadata": {
    "slideshow": {
     "slide_type": "slide"
    }
   },
   "outputs": [],
   "source": [
    "1 == True"
   ]
  },
  {
   "cell_type": "code",
   "execution_count": null,
   "id": "3d39e68b-50ea-40e8-a160-56d5589a53c1",
   "metadata": {},
   "outputs": [],
   "source": [
    "0 == False"
   ]
  },
  {
   "cell_type": "code",
   "execution_count": null,
   "id": "f0da7ad2-d3e1-497a-b4de-cf4e731b1daa",
   "metadata": {
    "scrolled": true
   },
   "outputs": [],
   "source": [
    "True + True"
   ]
  },
  {
   "cell_type": "markdown",
   "id": "17f3b2ae-71e5-47d0-9af0-53664e4b00e1",
   "metadata": {
    "slideshow": {
     "slide_type": "slide"
    }
   },
   "source": [
    "### ** Coding Exercise\n",
    "\n",
    "Try replacing True with False:"
   ]
  },
  {
   "cell_type": "code",
   "execution_count": null,
   "id": "7f5c58f0-4ce3-4801-9ca2-bbfe419c4d30",
   "metadata": {
    "scrolled": true,
    "slideshow": {
     "slide_type": "-"
    }
   },
   "outputs": [],
   "source": [
    "################################################################################\n",
    "################################################################################\n",
    "\n",
    "1 / True\n",
    "\n",
    "################################################################################\n",
    "################################################################################"
   ]
  },
  {
   "cell_type": "code",
   "execution_count": null,
   "id": "a2d6c58d-bf41-4d6a-be10-a188b465a6a3",
   "metadata": {
    "slideshow": {
     "slide_type": "slide"
    }
   },
   "outputs": [],
   "source": [
    "True > False"
   ]
  },
  {
   "cell_type": "code",
   "execution_count": null,
   "id": "a06e5d3b-240b-4b30-a146-954fbe2604e3",
   "metadata": {},
   "outputs": [],
   "source": [
    "3 == True"
   ]
  },
  {
   "cell_type": "code",
   "execution_count": null,
   "id": "015492ab-6da8-4708-9aeb-a39ed1876ad3",
   "metadata": {
    "slideshow": {
     "slide_type": "slide"
    }
   },
   "outputs": [],
   "source": [
    "bool(3)"
   ]
  },
  {
   "cell_type": "code",
   "execution_count": null,
   "id": "25177635-3676-41af-8671-c5cbfb8bb81f",
   "metadata": {},
   "outputs": [],
   "source": [
    "bool(0)"
   ]
  },
  {
   "cell_type": "code",
   "execution_count": null,
   "id": "c14bba49-7363-4be4-a102-c7cad283c116",
   "metadata": {},
   "outputs": [],
   "source": [
    "bool([])"
   ]
  },
  {
   "cell_type": "code",
   "execution_count": null,
   "id": "a4b1fbd8-6466-46ed-850c-cc799f2a85d3",
   "metadata": {},
   "outputs": [],
   "source": [
    "bool([0])"
   ]
  },
  {
   "cell_type": "markdown",
   "id": "f52b9bcc",
   "metadata": {
    "slideshow": {
     "slide_type": "slide"
    }
   },
   "source": [
    "## \"Control Flow\" Statements"
   ]
  },
  {
   "cell_type": "markdown",
   "id": "14e5249c",
   "metadata": {
    "slideshow": {
     "slide_type": "-"
    },
    "tags": []
   },
   "source": [
    "There are several Python keywords that have the ability to change the way code works based on conditions. You may hear these statements (which include `if`-`elif`-`else` as well as `for`, `while`, and `try`-`except`) referred to more generally as [\"control flow\"](https://docs.python.org/3/tutorial/controlflow.html) statements."
   ]
  },
  {
   "cell_type": "markdown",
   "id": "ccbe6404-350e-47eb-ae72-dbd3786650d4",
   "metadata": {
    "slideshow": {
     "slide_type": "slide"
    },
    "tags": []
   },
   "source": [
    "## If-Elif-Else Statements\n",
    "\n",
    "You may have learned about \"if-then\" statements in a class on symbolic logic, or you may have encountered them in Excel formulas. \n",
    "\n",
    "Python's syntax is somewhat idiosyncratic, and allows for multiple courses of action based on different conditions. No 'then' is required, just a colon and an indent.\n",
    "\n",
    "Python if statements almost always use comparison operators, although sometimes the comparison is implicit.\n",
    "\n",
    "For the first condition, Python expects an `if`, then to specify additional possible conditions, optional \"`elif`\" statements. Finally, if none of the conditions are met, an \"`else`\" (also optional).\n",
    "If you don't want your code to do anything if the condition in the `if` statement isn't met, you don't have to write an elif or else statement, but it can help make things clearer to whomever reads your code."
   ]
  },
  {
   "cell_type": "code",
   "execution_count": null,
   "id": "3a2d8e35-2580-4564-b11d-0c024ad223ca",
   "metadata": {
    "slideshow": {
     "slide_type": "slide"
    }
   },
   "outputs": [],
   "source": [
    "cabbage = 'pink'\n",
    "\n",
    "if cabbage == 'purple':\n",
    "    print(\"pH 7 (neutral solution)\")\n",
    "elif cabbage == 'blue':\n",
    "    print(\"high pH (basic solution)\")\n",
    "elif cabbage == 'pink':\n",
    "    print(\"low pH (acidic solution)\")\n",
    "else:\n",
    "    print(\"That's not the right kind of cabbage!\")"
   ]
  },
  {
   "cell_type": "markdown",
   "id": "95a01e92-51e0-4613-b2b7-29cca9c59d3a",
   "metadata": {
    "slideshow": {
     "slide_type": "slide"
    }
   },
   "source": [
    "Another example: say there is a task you want to automate. You want part of it to happen every day, and another part of it to happen every Tuesday, and another part to happen every Wednesday. Rather than writing three scripts and scheduling them separately, you could use an if-elif-else block to check the day of the week, so one script can do all three tasks."
   ]
  },
  {
   "cell_type": "code",
   "execution_count": null,
   "id": "f31e3979-7020-44c9-9858-f3a3fdfd2b9e",
   "metadata": {
    "slideshow": {
     "slide_type": "-"
    },
    "tags": []
   },
   "outputs": [],
   "source": [
    "from datetime import datetime\n",
    "\n",
    "# \"weekday()\" returns the day of the week as an integer; 0 is Monday, 6 is Sunday\n",
    "\n",
    "if datetime.today().weekday() == 1:\n",
    "\tprint('Weekly on Tuesday')\n",
    "elif datetime.today().weekday() == 2:\n",
    "\tprint('Weekly on Wednesday')\n",
    "else:\n",
    "\tpass\n",
    "\n",
    "print('Daily')"
   ]
  },
  {
   "cell_type": "markdown",
   "id": "48908726-f80f-478a-97dd-0fc37abe69a2",
   "metadata": {
    "slideshow": {
     "slide_type": "slide"
    },
    "tags": []
   },
   "source": [
    "## Try-Except Blocks\n",
    "\n",
    "When Python encounters an error, it stops executing. This is usually a problem.\n",
    "\n",
    "Along similar lines to if-elif-else statements, if you know your code will fail some proportion of the time due to *foreseen* circumstances, you can build in a try-except block so the code will acknowledge an error but not stop executing because of it.\n",
    "\n",
    "Say you expect a certain data type as an input, but you don't want your code to break entirely if a user enters the wrong kind of input. You can use a try-except block to look for a `TypeError`. Your code won't break, and it can execute a back-up plan instead."
   ]
  },
  {
   "cell_type": "code",
   "execution_count": null,
   "id": "491dc520-6063-4cd5-8756-ef8b845c6d65",
   "metadata": {
    "slideshow": {
     "slide_type": "slide"
    }
   },
   "outputs": [],
   "source": [
    "def number_plus_one(n):\n",
    "    try:\n",
    "        return n + 1\n",
    "    except TypeError:\n",
    "        print(\"{} is not a number! You can't add one to it!\".format(str(n)))"
   ]
  },
  {
   "cell_type": "code",
   "execution_count": null,
   "id": "1f16847d-5801-46bb-bf4b-2978abbe15c5",
   "metadata": {},
   "outputs": [],
   "source": [
    "number_plus_one(2)"
   ]
  },
  {
   "cell_type": "code",
   "execution_count": null,
   "id": "4c4a08e0-ccf5-4c3e-a4b9-39ad97f53e0d",
   "metadata": {},
   "outputs": [],
   "source": [
    "number_plus_one(str([]))"
   ]
  },
  {
   "cell_type": "code",
   "execution_count": null,
   "id": "3ce3c0ba-0dfa-4308-848f-a1ac32898ba1",
   "metadata": {},
   "outputs": [],
   "source": [
    "number_plus_one(str('Horse'))"
   ]
  },
  {
   "cell_type": "markdown",
   "id": "3bd2ff0c-8275-4b52-b27d-953a0dc1a60f",
   "metadata": {
    "slideshow": {
     "slide_type": "slide"
    },
    "tags": []
   },
   "source": [
    "## Functions (Again?!)\n",
    "\n",
    "Now that we've touched upon a few more concepts, let's revisit functions.\n",
    "The value returned from a function can be turned into a variable, but it can also be passed on directly as an argument to another function.\n",
    "\n",
    "In this way, functions can work together in a sort of assembly line:"
   ]
  },
  {
   "cell_type": "code",
   "execution_count": null,
   "id": "26e5e3dd-16ce-4004-8626-de5727cf6975",
   "metadata": {
    "slideshow": {
     "slide_type": "slide"
    },
    "tags": []
   },
   "outputs": [],
   "source": [
    "def separate_words(sample_string, delimiter=' '):\n",
    "\twords = sample_string.split(delimiter)\n",
    "\treturn words\n",
    "    \n",
    "def add_elipses(sample_string):\n",
    "    return(sample_string+'...')\n",
    "\n",
    "def join_words(sample_list, delimiter=' '):\n",
    "\ttitle = delimiter.join(sample_list)\n",
    "\treturn title\n",
    "\n",
    "input_string = 'Please speak more slowly'\n",
    "join_words([add_elipses(word) for word in separate_words(input_string)])"
   ]
  },
  {
   "cell_type": "markdown",
   "id": "bc1cc232-014b-427b-984e-8242056dda82",
   "metadata": {
    "execution": {
     "iopub.execute_input": "2024-07-22T23:50:47.359655Z",
     "iopub.status.busy": "2024-07-22T23:50:47.358656Z",
     "iopub.status.idle": "2024-07-22T23:50:47.364683Z",
     "shell.execute_reply": "2024-07-22T23:50:47.362972Z",
     "shell.execute_reply.started": "2024-07-22T23:50:47.359655Z"
    },
    "slideshow": {
     "slide_type": "slide"
    }
   },
   "source": [
    "### Coding Exercise\n",
    "\n",
    "Try using each function (`separate_words()`, `add_elipses()`, `join_words()`) by itself, using the same input string.\n",
    "\n",
    "Did you expect that to happen?\n"
   ]
  },
  {
   "cell_type": "code",
   "execution_count": null,
   "id": "c3242b3a-79f8-422e-9f43-3b6d607b26d6",
   "metadata": {
    "scrolled": true,
    "slideshow": {
     "slide_type": "-"
    }
   },
   "outputs": [],
   "source": [
    "################################################################################\n",
    "################################################################################\n",
    "\n",
    "separate_words(input_string)\n",
    "\n",
    "################################################################################\n",
    "################################################################################"
   ]
  },
  {
   "cell_type": "markdown",
   "id": "32828e40-8fe8-4e4b-8640-c129e54cfb33",
   "metadata": {
    "slideshow": {
     "slide_type": "slide"
    },
    "tags": []
   },
   "source": [
    "## Reserved Keywords and Named Objects\n",
    "\n",
    "As of Python 3.11, there are 35 reserved keywords, protected terms that cannot be used for anything other than their predefined function.\n",
    "\n",
    "It is important to be mindful of other variables in one's namespace when defining new variables, functions, or other objects in Python, whether or not the terms in question are on this list.\n",
    "\n",
    "Typing `help('keywords')` into a code cell or the console will show the list of reserved keywords."
   ]
  },
  {
   "cell_type": "code",
   "execution_count": null,
   "id": "a3939bed-05da-4877-91bd-f9eee72c418c",
   "metadata": {
    "scrolled": true,
    "slideshow": {
     "slide_type": "slide"
    }
   },
   "outputs": [],
   "source": [
    "help('keywords')"
   ]
  },
  {
   "cell_type": "markdown",
   "id": "9570d731-17fc-4dba-aaa5-4c37987da854",
   "metadata": {
    "slideshow": {
     "slide_type": "slide"
    },
    "tags": []
   },
   "source": [
    "However, there are other predefined names in Python that should not be used to name new objects. For example, one might be tempted to use the word \"range\" as the name of a variable for a list that contains a range of things; however, `range` already has a predefined function in Python, even though it isn't on the list of reserved keywords."
   ]
  },
  {
   "cell_type": "markdown",
   "id": "fc569a2b-0761-4330-a829-ebcc85d831bc",
   "metadata": {
    "slideshow": {
     "slide_type": "slide"
    },
    "tags": []
   },
   "source": [
    "# Part II - Advanced Functions, JSON Data, APIs"
   ]
  },
  {
   "cell_type": "markdown",
   "id": "f06d4663",
   "metadata": {
    "slideshow": {
     "slide_type": "slide"
    }
   },
   "source": [
    "## What is an API?\n",
    "\n",
    "Application Programming Interfaces (APIs) are the means by which different software programs share information with each other.\n",
    "\n",
    "The current usage of the term refers primarily to Web APIs, which are APIs that deal with interactions between client devices and web servers, in the form of an HTTP (HyperText Transfer Protocol) request.\n",
    "\n",
    "Responses to these requests are typically given in the form of structured data, often in JSON (JavaScript Object Notation) or XML (eXtensible Markup Language).\n",
    "\n",
    "Many websites have their own APIs, usually with proprietary specifications that dictate the kinds of requests their servers will accept.\n",
    "\n",
    "OCLC has many individual APIs, each with its own purpose and distinct syntax; the New Titles API is one such example."
   ]
  },
  {
   "cell_type": "markdown",
   "id": "5c354345-9d25-4d68-810d-46a0e422005b",
   "metadata": {
    "slideshow": {
     "slide_type": "slide"
    }
   },
   "source": [
    "## Requests and OAuthLib\n",
    "\n",
    "Python has several ways of performing HTTP requests, including `requests`, `urllib`, and `oauthlib`. The most commonly used of these is `requests`. This module allows Python programmers to very quickly and efficiently send HTTP requests, and to retrieve data from webpages simply by passing URLs as strings.\n",
    "\n",
    "Because we are passing our institutional credentials to OCLC, we will use Python's `requests-oauthlib` module. This works similarly to the `requests` module, but there are a couple of extra steps involved."
   ]
  },
  {
   "cell_type": "code",
   "execution_count": null,
   "id": "cbb261c0-2e05-4a55-ac70-0569ee65d1b5",
   "metadata": {
    "slideshow": {
     "slide_type": "slide"
    }
   },
   "outputs": [],
   "source": [
    "import requests"
   ]
  },
  {
   "cell_type": "code",
   "execution_count": null,
   "id": "0763c885-8d5c-4947-80ee-d78d28e02152",
   "metadata": {},
   "outputs": [],
   "source": [
    "source = requests.get('https://www.wikipedia.org')"
   ]
  },
  {
   "cell_type": "code",
   "execution_count": null,
   "id": "ea21a777-1a36-4798-ad4d-408d267769df",
   "metadata": {
    "scrolled": true,
    "slideshow": {
     "slide_type": "slide"
    }
   },
   "outputs": [],
   "source": [
    "source.content[:1510]"
   ]
  },
  {
   "cell_type": "code",
   "execution_count": null,
   "id": "45e201f9-5800-4f42-90dd-2a874970147e",
   "metadata": {
    "slideshow": {
     "slide_type": "slide"
    }
   },
   "outputs": [],
   "source": [
    "from requests_oauthlib import OAuth2Session\n",
    "\n",
    "oauth = OAuth2Session()"
   ]
  },
  {
   "cell_type": "code",
   "execution_count": null,
   "id": "b7cf3a2b-2158-4a80-9e32-e5f89d3ef523",
   "metadata": {},
   "outputs": [],
   "source": [
    "source2 = oauth.get('https://www.wikipedia.org')"
   ]
  },
  {
   "cell_type": "code",
   "execution_count": null,
   "id": "4bfa8eaf-e432-4ba6-a54f-e7578879ee38",
   "metadata": {
    "slideshow": {
     "slide_type": "slide"
    }
   },
   "outputs": [],
   "source": [
    "source2.content[:1510]"
   ]
  },
  {
   "cell_type": "code",
   "execution_count": null,
   "id": "eede482f-1491-4f35-a917-58d866ffddaf",
   "metadata": {
    "slideshow": {
     "slide_type": "slide"
    }
   },
   "outputs": [],
   "source": [
    "source.content == source2.content"
   ]
  },
  {
   "cell_type": "markdown",
   "id": "b9a91098-9142-4e98-a274-883416f575fa",
   "metadata": {
    "slideshow": {
     "slide_type": "slide"
    }
   },
   "source": [
    "## Sometimes It *DOES* Hurt to Ask\n",
    "\n",
    "You may have heard the term \"[DOS (Denial-of-service) attack](https://en.wikipedia.org/wiki/Denial-of-service_attack)\". This occurs when a website is flooded with so many HTTP requests to the point that it can no longer maintain operable status.\n",
    "\n",
    "Even if you don't *intend* to perform a DOS attack, you may accidentally write code that generates too many request in a short span of time.\n",
    "\n",
    "Most websites safeguard against DOS attacks by limiting how many requests may be made from a specific IP address within a given time period. If you send too many requests to a given site, your access to it your current IP address may be suspended or revoked. Also, most websites do not make this information public.\n",
    "\n",
    "Larger-scale websites like wikipedia.org are less likely to shut down your requests, since they already expect a high volume of traffic. \n",
    "\n",
    "For smaller sites, one can avoid sending too many requests all at once by spacing them out with the `sleep()` function in Python's `time` module."
   ]
  },
  {
   "cell_type": "code",
   "execution_count": null,
   "id": "c47f0691-911b-4fd5-864c-975f70d7219b",
   "metadata": {
    "slideshow": {
     "slide_type": "slide"
    }
   },
   "outputs": [],
   "source": [
    "#Without pauses:\n",
    "for number in sample_list:\n",
    "    print(number)"
   ]
  },
  {
   "cell_type": "code",
   "execution_count": null,
   "id": "e83358ca-dd14-4767-aa8b-b18e729c9998",
   "metadata": {},
   "outputs": [],
   "source": [
    "#With pauses:\n",
    "from time import sleep\n",
    "\n",
    "for number in sample_list:\n",
    "    print(number)\n",
    "\n",
    "    # Wait a second!\n",
    "    sleep(1)"
   ]
  },
  {
   "cell_type": "markdown",
   "id": "7725d02c-acb0-43d4-b991-b3bd89c01705",
   "metadata": {
    "slideshow": {
     "slide_type": "slide"
    }
   },
   "source": [
    "## OCLC's Traffic?\n",
    "\n",
    "How many users can access OCLC's API at the same time? We don't know. Hopefully we won't find out.\n",
    "\n",
    "OCLC is *probably* widely-used enough that a small group of people on one campus using the API concurrently won't trigger a shutdown, but it's still better if we don't all run the OCLC_New_Titles_API notebook at once."
   ]
  },
  {
   "cell_type": "markdown",
   "id": "030ba09a",
   "metadata": {
    "slideshow": {
     "slide_type": "slide"
    }
   },
   "source": [
    "## OCLC New Titles API\n",
    "\n",
    "The OCLC New Titles API may be found here:\n",
    "\n",
    "https://developer.api.oclc.org/new-titles-api\n",
    "\n",
    "Click on \"GET /new-titles\". Here, the parameters for the API are specified, as well as success/error HTML responses, which depend on whether the API query is correctly formatted and whether the user has permission to access it.\n",
    "\n",
    "Below \"GET /new-titles\", under \"Schemas\", the types of data the query retrieves are outlined.\n",
    "\n",
    "The information on this page will help us build our function."
   ]
  },
  {
   "cell_type": "markdown",
   "id": "f35840b9-ff66-4d82-a454-c36e832fe1ea",
   "metadata": {
    "slideshow": {
     "slide_type": "slide"
    },
    "tags": []
   },
   "source": [
    "## JSON Objects\n",
    "\n",
    "The OCLC API returns the new titles data in the form of a JSON object.\n",
    "\n",
    "Whereas DataFrames are very similar to spreadsheets (tabular data in neat columns-for-fields, rows-for-values configuration), JSON data is not as straightforward.\n",
    "\n",
    "On the surface level, a JSON object is a specialized Python dictionary object (curly braces, key-value pairs). \n",
    "\n",
    "The key differences between a Python dictionary and a JSON object (before it is read by the json module) are that instead of True, False, and None, JSON files store equivalents as \"true\", \"false\", and \"null\", all strings are formatted with double-quotes (never single quotes), and keys must be strings (they cannot be integers, floats, etc.).\n",
    "\n",
    "But JSON doesn't usually stop at the surface level…\n"
   ]
  },
  {
   "cell_type": "markdown",
   "id": "110698fc",
   "metadata": {
    "slideshow": {
     "slide_type": "slide"
    },
    "tags": []
   },
   "source": [
    "Can you make visual sense of this at first glance?"
   ]
  },
  {
   "cell_type": "raw",
   "id": "fc57f73f-2e46-44e4-93a4-f79e328dfb46",
   "metadata": {
    "raw_mimetype": "",
    "slideshow": {
     "slide_type": "-"
    },
    "tags": []
   },
   "source": [
    "{'oclcNumber': '1425378864',\n",
    " 'title': 'Cyberpsychology can help us understand cybercrime',\n",
    " 'titleInfo': {'text': 'Cyberpsychology can help us understand cybercrime'},\n",
    " 'creator': 'Bradley Fowler',\n",
    " 'contributors': [{'firstName': {'text': 'Bradley'},\n",
    "   'secondName': {'text': 'Fowler'},\n",
    "   'isPrimary': True,\n",
    "   'relatorCodes': ['aut'],\n",
    "   'contributorNotes': {'date': ['1968-']}},\n",
    "  {'firstName': {'text': 'Bruce G.'},\n",
    "   'secondName': {'text': 'Chaundy'},\n",
    "   'isPrimary': False,\n",
    "   'relatorCodes': ['aut']}],\n",
    " 'date': '2024',\n",
    " 'machineReadableDate': '2024',\n",
    " 'language': 'eng',\n",
    " 'generalFormat': 'Book',\n",
    " 'specificFormat': 'PrintBook',\n",
    " 'publisher': 'Nova Science Publishers',\n",
    " 'publicationPlace': 'New York',\n",
    " 'isbns': ['9798891135888'],\n",
    " 'subjectsText': ['Computer crimes Psychological aspects',\n",
    "  'Criminal psychology',\n",
    "  'Criminalité informatique Aspect psychologique'],\n",
    " 'series': 'Cybercrime and cybersecurity research',\n",
    " 'institutionHoldingIndicators': [{'id': '5640',\n",
    "   'holdsItem': True,\n",
    "   'dateHoldingSet': '2024-05-31T19:50:38.000+0000'}],\n",
    " 'summariesText': ['\"Cyberpsychology is a growing central phenomenon that helps us understand human behavior as it correlates with technology. This book provides knowledge about cyberpsychology and its ability to help us understand the mental and emotional motivation behind cybercriminals deployment of cybercrime and cyber-attacks, domestically and internationally. Research in this book examines 42 countries\\' experiences with cyberattacks and explores how cyberpsychology can help us deter cybercriminals from engaging in cybercrime activities\"-- Provided by publisher'],\n",
    " 'peerReviewed': 'N'}"
   ]
  },
  {
   "cell_type": "markdown",
   "id": "af79c275-698d-442b-8651-bd1dd5bec9fe",
   "metadata": {
    "slideshow": {
     "slide_type": "slide"
    },
    "tags": []
   },
   "source": [
    "JSON objects are dictionaries that contain other dictionaries, as well as lists of dictionaries. The resulting \"nested\" data is a great format for web developers; JSON objects are flexible containers for data and their structure lends itself well to interoperability between a wide variety of different systems and web services.\n",
    "\n",
    "However, they're not great for comparing, aggregating, or summarizing items in a dataset. Tabular data is much better for that, so we have to find a way to convert nested JSON data into a tabular format.\n"
   ]
  },
  {
   "cell_type": "markdown",
   "id": "379dd2f0-7b22-42a9-b473-0035ac10a66f",
   "metadata": {
    "slideshow": {
     "slide_type": "slide"
    },
    "tags": []
   },
   "source": [
    "## Recursive Functions\n",
    "\n",
    "Recursive functions are functions that either directly or indirectly call themselves as a subprocess. If a recursive function takes arguments as inputs, it must be structured such that it can pass on a subset of its top-level inputs and pass it on to another instance of itself as a lower-level process.\n",
    "\n",
    "Here's a simple example of a recursive function that counts down from a positive integer to zero:"
   ]
  },
  {
   "cell_type": "code",
   "execution_count": null,
   "id": "206aecea-f26a-400f-b34f-dee993071296",
   "metadata": {
    "slideshow": {
     "slide_type": "slide"
    },
    "tags": []
   },
   "outputs": [],
   "source": [
    "def countdown(start):\n",
    "    \n",
    "    print(start)\n",
    "\n",
    "    next = start - 1\n",
    "    if next > 0:\n",
    "        countdown(next)\n",
    "    elif next == 0:\n",
    "        print('Done')\n",
    "\n",
    "countdown(3)"
   ]
  },
  {
   "cell_type": "markdown",
   "id": "9f7999c9-6e22-434a-b51c-c270922b2631",
   "metadata": {
    "slideshow": {
     "slide_type": "slide"
    },
    "tags": []
   },
   "source": [
    "This function could easily be constructed with a while loop instead of recursion, but it shows how this kind of algorithm works. For more complex problems, such as dealing with nested JSON data, recursive functions can save a lot of time."
   ]
  },
  {
   "cell_type": "markdown",
   "id": "28438ad7-a291-435a-8a0c-be26064255fa",
   "metadata": {
    "slideshow": {
     "slide_type": "slide"
    }
   },
   "source": [
    "## Generators\n",
    "\n",
    "Functions usually send back data in the form of a return statement. Objects sent by a return statement are sent all at once. Unless they are stored in a variable, returns do not persist between calls of the function.\n",
    "\n",
    "However, one can use `yield` in a recursive function to make sure that the results get sent back from every sub-instance of the function as they are produced. Functions that use this `yield` keyword are called generators."
   ]
  },
  {
   "cell_type": "markdown",
   "id": "5af43b0e-02d5-4bbd-ac34-35644a586d69",
   "metadata": {
    "slideshow": {
     "slide_type": "slide"
    }
   },
   "source": [
    "For an example of a recursive function that is also a generator, let's take an example from real life (sort of). If you have a backpack full of items, and some of those items are bags that also contain items, you have to effectively perform a recursive function to retrieve all the items in the backpack.\n",
    "\n",
    "If we were to write this out in Python, it might look something like this:"
   ]
  },
  {
   "cell_type": "code",
   "execution_count": null,
   "id": "eaaccab7-4da5-4541-8514-bf1a3c75d91b",
   "metadata": {
    "slideshow": {
     "slide_type": "slide"
    },
    "tags": []
   },
   "outputs": [],
   "source": [
    "small_bag = ['pocket knife', 'matchbook','compass','bandages']\n",
    "bag_of_trail_mix = ['peanuts','raisins','M&Ms','dates','almonds']\n",
    "medium_bag = ['notebook', small_bag, 'pen', 'chapstick']\n",
    "\n",
    "backpack = ['water_bottle', bag_of_trail_mix, medium_bag, 'hat','sunscreen']\n",
    "\n",
    "def open_bag(bag):\n",
    "    for item in bag:\n",
    "        if isinstance(item, list):\n",
    "            # Recursively call open_bag()\n",
    "            for object in open_bag(item):\n",
    "                yield object\n",
    "        else:\n",
    "            yield item"
   ]
  },
  {
   "cell_type": "code",
   "execution_count": null,
   "id": "5531ed88-e28c-4415-a66a-f13295efdf8e",
   "metadata": {
    "slideshow": {
     "slide_type": "slide"
    }
   },
   "outputs": [],
   "source": [
    "open_bag(backpack)"
   ]
  },
  {
   "cell_type": "markdown",
   "id": "eb54f1e4-a6d6-49b8-ba8b-ebed9a400770",
   "metadata": {},
   "source": [
    "Wait, where's our result? And is that an error message?\n",
    "\n",
    "Generators don't produce their results until you tell them to. (And `<generator object open_bag at 0x0000029A7993DA80>` isn't an error; it's an object memory address - we don't need to cover that right at this moment.)\n",
    "\n",
    "Fortunately, we can get a generator to dump its contents into a list by passing it as an argument to `list()`"
   ]
  },
  {
   "cell_type": "code",
   "execution_count": null,
   "id": "36269ff7-0aca-43a4-ace0-0c5e3a5d966d",
   "metadata": {
    "scrolled": true,
    "slideshow": {
     "slide_type": "slide"
    }
   },
   "outputs": [],
   "source": [
    "list(open_bag(backpack))"
   ]
  },
  {
   "cell_type": "markdown",
   "id": "0c71e9ad-f6e7-4199-accd-7030bd8a2967",
   "metadata": {},
   "source": [
    "Notice the order in which the items were printed out... we paused midway through the process of counting our items in order to open the smaller bags within the larger ones, then continued getting the other items.\n",
    "\n",
    "We'll be covering recursive functions and generators in greater detail in the next notebook, so don't worry if you don't fully understand them yet."
   ]
  },
  {
   "cell_type": "code",
   "execution_count": null,
   "id": "51f3e65f",
   "metadata": {
    "slideshow": {
     "slide_type": "slide"
    }
   },
   "outputs": [],
   "source": [
    "backpack"
   ]
  },
  {
   "cell_type": "markdown",
   "id": "0cddbf15-1a6e-414a-89de-c507bd1f6a6b",
   "metadata": {
    "slideshow": {
     "slide_type": "slide"
    }
   },
   "source": [
    "### Coding Exercise\n",
    "\n",
    "Try using square brackets to access different items in `backpack`. For example, you'll see that `backpack[1][0]` is 'peanuts'. When dealing with nested data, like our \"backpack\" list or a JSON object, it is often necessary to access specific elements by using multiple layers of indices. The difference between lists and dictionaries is how these indices are labeled (numbers vs. keys)"
   ]
  },
  {
   "cell_type": "code",
   "execution_count": null,
   "id": "17d230a1-cc8c-4dcd-962c-794cd296df1b",
   "metadata": {
    "scrolled": true,
    "slideshow": {
     "slide_type": "-"
    }
   },
   "outputs": [],
   "source": [
    "################################################################################\n",
    "################################################################################\n",
    "\n",
    "backpack[1][0]\n",
    "\n",
    "################################################################################\n",
    "################################################################################"
   ]
  },
  {
   "cell_type": "markdown",
   "id": "4b518e7f-3a8e-4624-a47a-aa001426a985",
   "metadata": {
    "slideshow": {
     "slide_type": "slide"
    },
    "tags": []
   },
   "source": [
    "# Part III - Too Much Python?\n",
    "\n",
    "*\"A little learning is a dang'rous thing; / Drink deep, or taste not the Pierian spring.\"*\n",
    "\n",
    "\\- Alexander Pope"
   ]
  },
  {
   "cell_type": "markdown",
   "id": "9ef5f4d2-6656-4f14-9aae-aa6ebd788664",
   "metadata": {},
   "source": [
    "If you go through the Just_Enough_Python_Slideshow notebook or OCLC_New_Titles_API notebook *between sessions*, please keep track of your time. This will help us get an estimate of how long it takes a self-paced learner to get through this material, which may help us with future workshops.\n",
    "\n",
    "Please don't hesitate to reach out if you have questions regarding the notebooks."
   ]
  },
  {
   "cell_type": "markdown",
   "id": "d4ce204c-7fc5-4461-b237-90dbabc215b3",
   "metadata": {
    "slideshow": {
     "slide_type": "slide"
    }
   },
   "source": [
    "## PEP 8\n",
    "\n",
    "[Python Enhancement Proposals](https://peps.python.org/), or PEPs, are stages of development for the Python language.\n",
    "\n",
    "PEP 8 is the official [Style Guide for Python Code](https://peps.python.org/pep-0008/).\n",
    "\n",
    "PEP 8 covers many topics, but there are a few in particular that are useful best practices for legibility of code:\n",
    "\n",
    "* Indentation - This is one of the features that makes Python a distinctive language to program in. The screen isn't cluttered with curly braces and semicolons; rather, the same purpose is accomplished in Python by means of nested indentation. Python uses 4 spaces as a default spacing for indentation. *Indentation is not optional.*\n",
    "\n",
    "* Maximum line length: 79 characters - This allows the user to work on multiple projects side-by-side on the same screen. One way to check is to copy-paste a bar of 80 hashmarks into your code cells. (In practice, more of a guideline than a rule.)\n",
    "\n",
    "* Naming conventions: variables, functions, and classes each have their own expected type formatting. Classes use CapsWords, functions and variables use lowercase_separated_by_underscores. This makes different kinds of objects easily distinguishable. You will also see camelCaps, but this will usually be when importing data that was stored using another programming language, like JavaScript."
   ]
  },
  {
   "cell_type": "code",
   "execution_count": null,
   "id": "f05408c8-b42f-48b0-8561-a5831675c108",
   "metadata": {
    "slideshow": {
     "slide_type": "slide"
    }
   },
   "outputs": [],
   "source": [
    "# 80 hashmarks:\n",
    "################################################################################\n",
    "#If you need to measure out your 79-character lines, this fits the bill nicely."
   ]
  },
  {
   "cell_type": "markdown",
   "id": "2d4a4e59-81cd-47c1-b251-acb88e9d9246",
   "metadata": {},
   "source": [
    "## ** Constellate\n",
    "\n",
    "For a much more in-depth tutorial on the basics of Python, check out the [Python Basics and Python Intermediate tutorials on Constellate](https://constellate.org/dashboard/tutorials) (you will have to search for \"python-basics\" and \"python-intermediate\" once you are in the lab). [Constellate](https://constellate.org/docs/how-to-use-constellate) is a text and data analysis service that is part of ITHAKA.\n",
    "\n",
    "TCCL gained access to Constellate on July 1 of this year, and it's now available as a resource for students, staff, and faculty. The learning materials on Costellate are focused primarily on textual analysis, but their introductory materials cover the fundamentals of Python in much greater detail than we do in this workshop."
   ]
  },
  {
   "cell_type": "markdown",
   "id": "f7d3602e-d0b4-4bd3-b188-01a10786bad0",
   "metadata": {
    "slideshow": {
     "slide_type": "slide"
    }
   },
   "source": [
    "## ** Punctuation and Style"
   ]
  },
  {
   "cell_type": "markdown",
   "id": "1cff0ff1-f367-4123-b51a-d3e704f64c4b",
   "metadata": {},
   "source": [
    "The keen-eyed copy-editors among you may have noticed that while we have used periods inside quotation marks at the ends of sentences in this document, there is not a single comma inside the end of a quotation. This is atypical of American publications (but typical in British English publications). In Python, a list of string variables is separated by commas, but in order to maintain the integrity of the strings themselves, commas must be used on the outside of the quotation marks. Be mindful of accidentally inserting commas in lists of strings if you are accustomed to typing punctuation inside quotes.\n",
    "\n",
    "Dates formatted YYYY-MM-DD are preferable in programming contexts because an alphabetical sort is equivalent to a chronological sort (largest increment first, smallest increment last). MM-DD-YYYY and DD-MM-YYYY are both less optimal for this task. In a similar vein, two-digit days and months are preferred (09 instead of 9 for September) because an alphabetical sort will put 10 before 9."
   ]
  },
  {
   "cell_type": "markdown",
   "id": "9224088f",
   "metadata": {},
   "source": [
    "## ** DRY Code\n",
    "\n",
    "\"[Don't Repeat Yourself](https://en.wikipedia.org/wiki/Don't_repeat_yourself)\" is a motto that many Python programmers (attempt to) adhere to.\n",
    "\n",
    "When possible, rather than typing out the same code more than once, it is considered best practices to turn it into a function so it may be used in multiple places. If the code does something *similar* to other code, it's often helpful to make a more generalized function that may be adapted to different situations.\n",
    "\n",
    "\"WET\" is the opposite of DRY; it can stand for \"Write Everything Twice\" or \"We Enjoy Typing\" depending on whom you ask."
   ]
  },
  {
   "cell_type": "markdown",
   "id": "f047f51d-9aef-4054-9f34-f3ce7354042d",
   "metadata": {
    "slideshow": {
     "slide_type": "slide"
    }
   },
   "source": [
    "## ** Python \"Easter Eggs\"\n",
    "\n",
    "Python has a several built-in Easter Eggs. Here are a couple of them:"
   ]
  },
  {
   "cell_type": "code",
   "execution_count": null,
   "id": "e97bad93-3923-4bfb-86c8-ee6da006f6e9",
   "metadata": {
    "slideshow": {
     "slide_type": "slide"
    }
   },
   "outputs": [],
   "source": [
    "#The PEP 20 (also called the Zen of Python, by Tim Peters):\n",
    "\n",
    "import this"
   ]
  },
  {
   "cell_type": "code",
   "execution_count": null,
   "id": "7a05d7d2-67b2-42c3-b071-fe60ea34614b",
   "metadata": {
    "scrolled": true,
    "slideshow": {
     "slide_type": "slide"
    }
   },
   "outputs": [],
   "source": [
    "# Randall Patrick Munroe's endorsement (?) of Python in an xkcd comic:\n",
    "#(December 5, 2007, about a year prior to the release of Python 3)\n",
    "import antigravity"
   ]
  },
  {
   "cell_type": "markdown",
   "id": "a4825ff0-068c-4537-bf0b-52e73bd29faa",
   "metadata": {
    "slideshow": {
     "slide_type": "slide"
    },
    "tags": []
   },
   "source": [
    "[Explain xkcd](https://www.explainxkcd.com/wiki/index.php/353:_Python)"
   ]
  },
  {
   "cell_type": "markdown",
   "id": "dcd7c715-df15-4a63-912a-e200446456d0",
   "metadata": {
    "slideshow": {
     "slide_type": "slide"
    }
   },
   "source": [
    "## ** One More Note about JSON Files...\n",
    "\n",
    "This Jupyter Notebook is a JSON file.\n",
    "\n",
    "![title](alljson.jpg)\n",
    "\n",
    "Jupyter Notebooks are stored as JSON. JupyterLab and other applications read the data in the JSON file and present it in a tidier, human-readable format, using the metadata in the file to determine what kind of cells to show."
   ]
  },
  {
   "cell_type": "code",
   "execution_count": null,
   "id": "49389877-f695-444b-93e7-b7a082743bc7",
   "metadata": {
    "scrolled": true,
    "slideshow": {
     "slide_type": "slide"
    }
   },
   "outputs": [],
   "source": [
    "import json\n",
    "\n",
    "with open('Just_Enough_Python_Slideshow.ipynb', 'rb') as file:\n",
    "    contents = json.load(file)\n",
    "\n",
    "contents['cells'][0:2]"
   ]
  },
  {
   "cell_type": "markdown",
   "id": "0413f2dd",
   "metadata": {
    "slideshow": {
     "slide_type": "slide"
    }
   },
   "source": [
    "# (For More, See the \"OCLC_New_Titles_API.ipynb\" Notebook)"
   ]
  },
  {
   "cell_type": "code",
   "execution_count": null,
   "id": "40c24200-b750-4e4f-a8c9-586b212db177",
   "metadata": {},
   "outputs": [],
   "source": []
  }
 ],
 "metadata": {
  "celltoolbar": "Slideshow",
  "kernelspec": {
   "display_name": "Python 3 (ipykernel)",
   "language": "python",
   "name": "python3"
  },
  "language_info": {
   "codemirror_mode": {
    "name": "ipython",
    "version": 3
   },
   "file_extension": ".py",
   "mimetype": "text/x-python",
   "name": "python",
   "nbconvert_exporter": "python",
   "pygments_lexer": "ipython3",
   "version": "3.11.9"
  },
  "toc": {
   "base_numbering": 0
  }
 },
 "nbformat": 4,
 "nbformat_minor": 5
}
